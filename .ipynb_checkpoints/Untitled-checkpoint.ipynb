{
 "cells": [
  {
   "cell_type": "code",
   "execution_count": 6,
   "id": "9d56a04b-bf83-475a-a18b-7114ed0afa68",
   "metadata": {},
   "outputs": [
    {
     "name": "stdin",
     "output_type": "stream",
     "text": [
      "Enter a temperature degree in Celsius:  34.4\n"
     ]
    },
    {
     "name": "stdout",
     "output_type": "stream",
     "text": [
      "93.92 degrees Fahrenheit\n"
     ]
    }
   ],
   "source": [
    "def convertCelsius():\n",
    "    degree = float(input(\"Enter a temperature degree in Celsius: \"))\n",
    "    fahrenheit = degree * (9 / 5) +32\n",
    "    print(f\"{fahrenheit} degrees Fahrenheit\")\n",
    "    \n",
    "convertCelsius()"
   ]
  },
  {
   "cell_type": "code",
   "execution_count": 9,
   "id": "61a38abd-ca13-463f-8940-becb5c94f912",
   "metadata": {},
   "outputs": [
    {
     "name": "stdin",
     "output_type": "stream",
     "text": [
      "Enter int(a):  1\n",
      "Enter int(b):  9\n",
      "Enter int(c):  20\n"
     ]
    },
    {
     "name": "stdout",
     "output_type": "stream",
     "text": [
      "The solutions include -4.0 and -5.0.”\n"
     ]
    }
   ],
   "source": [
    "import math\n",
    "\n",
    "def quadraticRoot():\n",
    "    a = int(input(\"Enter int(a): \"))\n",
    "    b = int(input(\"Enter int(b): \"))\n",
    "    c = int(input(\"Enter int(c): \"))\n",
    "    \n",
    "    x1 = (-b + math.sqrt(b*b - 4 * a * c)) / (2 * a)\n",
    "    x2 = (-b - math.sqrt(b*b - 4 * a * c)) / (2 * a)\n",
    "    \n",
    "    print(f\"The solutions include {x1} and {x2}.\")\n",
    "    \n",
    "quadraticRoot()"
   ]
  },
  {
   "cell_type": "code",
   "execution_count": 11,
   "id": "db5b2da2-5c1b-4d6d-b0f0-b2db7a3ba5b7",
   "metadata": {},
   "outputs": [
    {
     "name": "stdout",
     "output_type": "stream",
     "text": [
      "calcDistance(5, 10, 15, 20) -> 14.142135623730951\n",
      "calcDistance(-1, 15, 7, -3) -> 19.697715603592208\n"
     ]
    }
   ],
   "source": [
    "def calcDistance(x1,y1,x2,y2):\n",
    "    d = math.sqrt((x2 - x1)**2 + (y2 - y1)**2)\n",
    "    return d\n",
    "\n",
    "print(f\"calcDistance(5, 10, 15, 20) -> {calcDistance(5, 10, 15, 20)}\")\n",
    "print(f\"calcDistance(-1, 15, 7, -3) -> {calcDistance(-1, 15, 7, -3)}\")"
   ]
  }
 ],
 "metadata": {
  "kernelspec": {
   "display_name": "Python 3 (ipykernel)",
   "language": "python",
   "name": "python3"
  },
  "language_info": {
   "codemirror_mode": {
    "name": "ipython",
    "version": 3
   },
   "file_extension": ".py",
   "mimetype": "text/x-python",
   "name": "python",
   "nbconvert_exporter": "python",
   "pygments_lexer": "ipython3",
   "version": "3.8.8"
  }
 },
 "nbformat": 4,
 "nbformat_minor": 5
}
