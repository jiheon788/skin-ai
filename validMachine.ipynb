{
 "cells": [
  {
   "cell_type": "markdown",
   "id": "a8da39bc-afa5-427c-b5b4-ecdb8bd21159",
   "metadata": {},
   "source": [
    "# 1. 라벨링\n",
    "* 폴더 내부 파일의 이름 '폴더명_countNumber'로 바꾸기\n",
    "* 폴더명만 정리해주면 된다.\n",
    "> e.g. 건선/efwiojfwop.jpg > 건선/건선_1.jpg 로 변경\n",
    "#### 사용방법\n",
    "1. 폴더 이름 지정\n",
    "2. fNames리스트에 변경할 타겟폴더 이름 담기\n",
    "3. 실행"
   ]
  },
  {
   "cell_type": "code",
   "execution_count": 16,
   "id": "7c24c775-2af6-42ec-8452-d3c15d939982",
   "metadata": {
    "tags": []
   },
   "outputs": [
    {
     "name": "stdout",
     "output_type": "stream",
     "text": [
      "./images/피부염_f/아토피피부염_f/아토피피부염/.DS_Store => ./images/피부염_f/아토피피부염_f/아토피피부염/아토피피부염1.jpg\n",
      "./images/피부염_f/아토피피부염_f/아토피피부염/pic1.jpg => ./images/피부염_f/아토피피부염_f/아토피피부염/아토피피부염2.jpg\n",
      "./images/피부염_f/아토피피부염_f/아토피피부염/pic10.jpg => ./images/피부염_f/아토피피부염_f/아토피피부염/아토피피부염3.jpg\n",
      "./images/피부염_f/아토피피부염_f/아토피피부염/pic11.jpg => ./images/피부염_f/아토피피부염_f/아토피피부염/아토피피부염4.jpg\n",
      "./images/피부염_f/아토피피부염_f/아토피피부염/pic12.jpg => ./images/피부염_f/아토피피부염_f/아토피피부염/아토피피부염5.jpg\n",
      "./images/피부염_f/아토피피부염_f/아토피피부염/pic13.jpg => ./images/피부염_f/아토피피부염_f/아토피피부염/아토피피부염6.jpg\n",
      "./images/피부염_f/아토피피부염_f/아토피피부염/pic14.jpg => ./images/피부염_f/아토피피부염_f/아토피피부염/아토피피부염7.jpg\n",
      "./images/피부염_f/아토피피부염_f/아토피피부염/pic15.jpg => ./images/피부염_f/아토피피부염_f/아토피피부염/아토피피부염8.jpg\n",
      "./images/피부염_f/아토피피부염_f/아토피피부염/pic16.jpg => ./images/피부염_f/아토피피부염_f/아토피피부염/아토피피부염9.jpg\n",
      "./images/피부염_f/아토피피부염_f/아토피피부염/pic17.jpg => ./images/피부염_f/아토피피부염_f/아토피피부염/아토피피부염10.jpg\n",
      "./images/피부염_f/아토피피부염_f/아토피피부염/pic18.jpg => ./images/피부염_f/아토피피부염_f/아토피피부염/아토피피부염11.jpg\n",
      "./images/피부염_f/아토피피부염_f/아토피피부염/pic19.jpg => ./images/피부염_f/아토피피부염_f/아토피피부염/아토피피부염12.jpg\n",
      "./images/피부염_f/아토피피부염_f/아토피피부염/pic2.jpg => ./images/피부염_f/아토피피부염_f/아토피피부염/아토피피부염13.jpg\n",
      "./images/피부염_f/아토피피부염_f/아토피피부염/pic20.jpg => ./images/피부염_f/아토피피부염_f/아토피피부염/아토피피부염14.jpg\n",
      "./images/피부염_f/아토피피부염_f/아토피피부염/pic21.jpg => ./images/피부염_f/아토피피부염_f/아토피피부염/아토피피부염15.jpg\n",
      "./images/피부염_f/아토피피부염_f/아토피피부염/pic22.jpg => ./images/피부염_f/아토피피부염_f/아토피피부염/아토피피부염16.jpg\n",
      "./images/피부염_f/아토피피부염_f/아토피피부염/pic23.jpg => ./images/피부염_f/아토피피부염_f/아토피피부염/아토피피부염17.jpg\n",
      "./images/피부염_f/아토피피부염_f/아토피피부염/pic24.jpg => ./images/피부염_f/아토피피부염_f/아토피피부염/아토피피부염18.jpg\n",
      "./images/피부염_f/아토피피부염_f/아토피피부염/pic25.jpg => ./images/피부염_f/아토피피부염_f/아토피피부염/아토피피부염19.jpg\n",
      "./images/피부염_f/아토피피부염_f/아토피피부염/pic26.jpg => ./images/피부염_f/아토피피부염_f/아토피피부염/아토피피부염20.jpg\n",
      "./images/피부염_f/아토피피부염_f/아토피피부염/pic27.jpg => ./images/피부염_f/아토피피부염_f/아토피피부염/아토피피부염21.jpg\n",
      "./images/피부염_f/아토피피부염_f/아토피피부염/pic28.jpg => ./images/피부염_f/아토피피부염_f/아토피피부염/아토피피부염22.jpg\n",
      "./images/피부염_f/아토피피부염_f/아토피피부염/pic29.jpg => ./images/피부염_f/아토피피부염_f/아토피피부염/아토피피부염23.jpg\n",
      "./images/피부염_f/아토피피부염_f/아토피피부염/pic3.jpg => ./images/피부염_f/아토피피부염_f/아토피피부염/아토피피부염24.jpg\n",
      "./images/피부염_f/아토피피부염_f/아토피피부염/pic30.jpg => ./images/피부염_f/아토피피부염_f/아토피피부염/아토피피부염25.jpg\n",
      "./images/피부염_f/아토피피부염_f/아토피피부염/pic31.jpg => ./images/피부염_f/아토피피부염_f/아토피피부염/아토피피부염26.jpg\n",
      "./images/피부염_f/아토피피부염_f/아토피피부염/pic32.jpg => ./images/피부염_f/아토피피부염_f/아토피피부염/아토피피부염27.jpg\n",
      "./images/피부염_f/아토피피부염_f/아토피피부염/pic33.jpg => ./images/피부염_f/아토피피부염_f/아토피피부염/아토피피부염28.jpg\n",
      "./images/피부염_f/아토피피부염_f/아토피피부염/pic34.jpg => ./images/피부염_f/아토피피부염_f/아토피피부염/아토피피부염29.jpg\n",
      "./images/피부염_f/아토피피부염_f/아토피피부염/pic35.jpg => ./images/피부염_f/아토피피부염_f/아토피피부염/아토피피부염30.jpg\n",
      "./images/피부염_f/아토피피부염_f/아토피피부염/pic36.jpg => ./images/피부염_f/아토피피부염_f/아토피피부염/아토피피부염31.jpg\n",
      "./images/피부염_f/아토피피부염_f/아토피피부염/pic4.jpg => ./images/피부염_f/아토피피부염_f/아토피피부염/아토피피부염32.jpg\n",
      "./images/피부염_f/아토피피부염_f/아토피피부염/pic42.jpg => ./images/피부염_f/아토피피부염_f/아토피피부염/아토피피부염33.jpg\n",
      "./images/피부염_f/아토피피부염_f/아토피피부염/pic5.jpg => ./images/피부염_f/아토피피부염_f/아토피피부염/아토피피부염34.jpg\n",
      "./images/피부염_f/아토피피부염_f/아토피피부염/pic7.jpg => ./images/피부염_f/아토피피부염_f/아토피피부염/아토피피부염35.jpg\n",
      "./images/피부염_f/아토피피부염_f/아토피피부염/pic8.jpg => ./images/피부염_f/아토피피부염_f/아토피피부염/아토피피부염36.jpg\n",
      "./images/피부염_f/아토피피부염_f/아토피피부염/pic9.jpg => ./images/피부염_f/아토피피부염_f/아토피피부염/아토피피부염37.jpg\n"
     ]
    }
   ],
   "source": [
    "import os\n",
    "\n",
    "# 변경할 타겟 폴더\n",
    "fNames = ['여드름','쥐젖']\n",
    "'./images/건선_f/농포성건선/'\n",
    "def changeName(path, newName):\n",
    "    i = 1\n",
    "    for filename in os.listdir(path):\n",
    "        print(path+filename, '=>', path+str(newName)+str(i)+'.jpg')\n",
    "        os.rename(path+filename, path+str(newName)+str(i)+'.jpg')\n",
    "        i += 1\n",
    "      \n",
    "# for name in fNames:\n",
    "#     changeName(f'./{name}/',f'{name}_')\n",
    "changeName(f'./images/피부염_f/아토피피부염_f/아토피피부염/',f'아토피피부염')"
   ]
  },
  {
   "cell_type": "markdown",
   "id": "d2485b40-f168-477f-bd75-3e2980609c4f",
   "metadata": {
    "tags": []
   },
   "source": [
    "# 사이즈 변경\n",
    "* crop아님 224x224축소"
   ]
  },
  {
   "cell_type": "code",
   "execution_count": 1,
   "id": "3ed0050a-9a57-428e-a555-4fccf7ccc1db",
   "metadata": {},
   "outputs": [],
   "source": [
    "import os\n",
    "import glob\n",
    "from PIL import Image\n",
    "\n",
    "files = glob.glob('./a/*.jpg')\n",
    "\n",
    "for f in files:\n",
    "    img = Image.open(f)\n",
    "    img_resize = img.resize((224, 224))\n",
    "    title, ext = os.path.splitext(f)\n",
    "    img_resize.save(title + '_half' + ext)"
   ]
  },
  {
   "cell_type": "markdown",
   "id": "40220803-335b-4637-9c1f-76d7e721d4ca",
   "metadata": {},
   "source": [
    "# 이미지 증폭기"
   ]
  },
  {
   "cell_type": "code",
   "execution_count": 1,
   "id": "4cc99437-4c04-4561-85ad-7b79947b2cd0",
   "metadata": {},
   "outputs": [],
   "source": [
    "from imageio import imread\n",
    "from tensorflow.keras.preprocessing.image import ImageDataGenerator\n",
    "import os\n",
    "import numpy as np\n",
    "\n",
    "datagen = ImageDataGenerator(rotation_range=10, \n",
    "                             width_shift_range=0.1,\n",
    "                             height_shift_range=0.1,\n",
    "                             shear_range=0.2, \n",
    "                             zoom_range=0.2,\n",
    "                             channel_shift_range = 10, \n",
    "                             horizontal_flip=True,\n",
    "                             vertical_flip=True)\n",
    "\n",
    "def imagesFileGenerator(imagePath, savePath, name, n):\n",
    "    image_path = imagePath\n",
    "\n",
    "    image = np.expand_dims(imread(image_path), 0)\n",
    "\n",
    "    save_here = savePath\n",
    "\n",
    "    datagen.fit(image)\n",
    "\n",
    "    for x, val in zip(datagen.flow(image,\n",
    "                                   save_to_dir=save_here,\n",
    "                                   save_prefix=f'{name}',\n",
    "                                   save_format='jpg'),range(n)) :\n",
    "        pass\n",
    "                                   "
   ]
  },
  {
   "cell_type": "code",
   "execution_count": 8,
   "id": "2b2a681e-e9bb-4610-bb51-b19544bb7f1d",
   "metadata": {},
   "outputs": [],
   "source": [
    "# './images/건선/'\n",
    "fNames = ['구각염']\n",
    "for name in fNames:\n",
    "    path = f'./images/{name}/'    \n",
    "    for filename in os.listdir(path):\n",
    "        imagesFileGenerator(path+filename, path, name, 12)"
   ]
  },
  {
   "cell_type": "markdown",
   "id": "043a971b-4f37-467b-938d-fce0c8d325e0",
   "metadata": {},
   "source": [
    "# PNG to JPG"
   ]
  },
  {
   "cell_type": "code",
   "execution_count": 7,
   "id": "a74d1cb6-79e9-402e-bc2b-291c970732f5",
   "metadata": {
    "tags": []
   },
   "outputs": [],
   "source": [
    "import os\n",
    "from PIL import Image\n",
    "\n",
    "\n",
    "i=1\n",
    "target = '구각염'\n",
    "\n",
    "path = f'./images2/{target}/'    \n",
    "for filename in os.listdir(path):\n",
    "    img = Image.open(f'./images2/{target}/{filename}')\n",
    "    img = img.convert('RGB')\n",
    "    img.save(f'./images/{target}/rgb{i}.jpg')\n",
    "    i += 1\n",
    "    # changeName(f'./{name}/',f'{name}_')\n",
    "# changeName(f'./images/두드러기/',f'두드러기')"
   ]
  }
 ],
 "metadata": {
  "kernelspec": {
   "display_name": "Python 3 (ipykernel)",
   "language": "python",
   "name": "python3"
  },
  "language_info": {
   "codemirror_mode": {
    "name": "ipython",
    "version": 3
   },
   "file_extension": ".py",
   "mimetype": "text/x-python",
   "name": "python",
   "nbconvert_exporter": "python",
   "pygments_lexer": "ipython3",
   "version": "3.8.8"
  }
 },
 "nbformat": 4,
 "nbformat_minor": 5
}
